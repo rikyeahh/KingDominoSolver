{
 "cells": [
  {
   "cell_type": "code",
   "execution_count": 1,
   "metadata": {
    "colab": {
     "base_uri": "https://localhost:8080/"
    },
    "id": "2RauHYswy6My",
    "outputId": "2fc8e51b-0888-49b4-ba89-389a64bd43ce"
   },
   "outputs": [
    {
     "name": "stdout",
     "output_type": "stream",
     "text": [
      "Collecting easyAI\n",
      "  Using cached easyAI-2.0.12-py3-none-any.whl (42 kB)\n",
      "Requirement already satisfied: numpy in c:\\users\\ricca\\anaconda3\\lib\\site-packages (from easyAI) (1.20.1)\n",
      "Installing collected packages: easyAI\n",
      "Successfully installed easyAI-2.0.12\n"
     ]
    },
    {
     "name": "stderr",
     "output_type": "stream",
     "text": [
      "WARNING: Ignoring invalid distribution -atplotlib (c:\\users\\ricca\\anaconda3\\lib\\site-packages)\n",
      "WARNING: Ignoring invalid distribution -atplotlib (c:\\users\\ricca\\anaconda3\\lib\\site-packages)\n",
      "WARNING: Ignoring invalid distribution -atplotlib (c:\\users\\ricca\\anaconda3\\lib\\site-packages)\n",
      "WARNING: Ignoring invalid distribution -atplotlib (c:\\users\\ricca\\anaconda3\\lib\\site-packages)\n",
      "WARNING: Ignoring invalid distribution -atplotlib (c:\\users\\ricca\\anaconda3\\lib\\site-packages)\n",
      "WARNING: Ignoring invalid distribution -atplotlib (c:\\users\\ricca\\anaconda3\\lib\\site-packages)\n",
      "WARNING: Ignoring invalid distribution -atplotlib (c:\\users\\ricca\\anaconda3\\lib\\site-packages)\n",
      "\n",
      "[notice] A new release of pip available: 22.3.1 -> 23.0\n",
      "[notice] To update, run: python.exe -m pip install --upgrade pip\n"
     ]
    }
   ],
   "source": [
    "!pip install easyAI"
   ]
  },
  {
   "cell_type": "code",
   "execution_count": 3,
   "metadata": {
    "colab": {
     "base_uri": "https://localhost:8080/",
     "height": 131
    },
    "id": "psKqsxdNzCA9",
    "outputId": "d1befc04-acb5-4c2d-b2e1-bad1d68af793"
   },
   "outputs": [
    {
     "name": "stdout",
     "output_type": "stream",
     "text": [
      "d:1, a:0, m:01\n",
      "d:2, a:0, m:01\n",
      "d:3, a:0, m:01\n",
      "d:4, a:0, m:01\n"
     ]
    }
   ],
   "source": [
    "from easyAI import TwoPlayerGame, Human_Player, AI_Player, Negamax\n",
    "import itertools as it\n",
    "from game import Dominoes, Board, Deck, Play, Rule\n",
    "\n",
    "\n",
    "class KingDomino(TwoPlayerGame):\n",
    "\n",
    "    def __init__(self, players=None):\n",
    "        # must do these to fit the framework\n",
    "        self.players = players\n",
    "        self.nplayer = 1\n",
    "        self.current_player = 1\n",
    "        # fill the pile of cards\n",
    "        self.pile = Deck(Dominoes.from_json(\"kingdomino_small.json\"), deck_size=10, draw_num=4)\n",
    "        self.board1 = Board(Rule.MIGHTY_DUEL)\n",
    "        self.board2 = Board(Rule.MIGHTY_DUEL)\n",
    "        self.previously_picked_cards1 = [None, None]\n",
    "        self.previously_picked_cards2 = [None, None]\n",
    "        self.cards_on_board = self.pile.draw()\n",
    "\n",
    "    def possible_moves(self):\n",
    "        if self.nplayer == 1:\n",
    "            current_board = self.board1\n",
    "            prev_picked_cards = self.previously_picked_cards1\n",
    "        else:\n",
    "            current_board = self.board2\n",
    "            prev_picked_cards = self.previously_picked_cards2\n",
    "\n",
    "        # move = choose 2 cards for the next turn and place the previously picked two\n",
    "        cards_to_pick_next_turn = [\"01\", \"02\", \"03\", \"12\", \"13\", \"23\"]\n",
    "        \n",
    "        # for first turn, no previously picked cards\n",
    "        if prev_picked_cards[0] == None:\n",
    "            return cards_to_pick_next_turn\n",
    "            \n",
    "        positions_for_1st_card = list(current_board.valid_plays(prev_picked_cards[0]))\n",
    "        positions_for_2nd_card = list(current_board.valid_plays(prev_picked_cards[1]))\n",
    "        \n",
    "        positions_to_place = positions_for_1st_card + positions_for_2nd_card\n",
    "            \n",
    "        # last turn\n",
    "        if self.pile.empty():\n",
    "            return list(it.product(\"last turn\", positions_to_place))\n",
    "        \n",
    "        return list(it.product(cards_to_pick_next_turn, positions_to_place))\n",
    "\n",
    "    def make_move(self, move):\n",
    "\n",
    "        if self.nplayer == 1:\n",
    "            current_board = self.board1\n",
    "            prev_picked_cards = self.previously_picked_cards1\n",
    "        else:\n",
    "            current_board = self.board2\n",
    "            prev_picked_cards = self.previously_picked_cards2\n",
    "            self.cards_on_board = self.pile.draw()\n",
    "\n",
    "        #print(\"move\", move, \"picked\", str(prev_picked_cards))\n",
    "        # if first move\n",
    "        if type(move) == str:\n",
    "            prev_picked_cards[0] = self.cards_on_board[int(move[0])]\n",
    "            prev_picked_cards[1] = self.cards_on_board[int(move[1])]\n",
    "            return\n",
    "        \n",
    "        # if last move\n",
    "        if move[0] == 'last turn':\n",
    "            current_board.play(move[1])\n",
    "        \n",
    "        cards_picked = move[0]\n",
    "        prev_picked_cards[0] = self.cards_on_board[int(cards_picked[0])]\n",
    "        prev_picked_cards[1] = self.cards_on_board[int(cards_picked[1])]\n",
    "        current_board.play(move[1])\n",
    "\n",
    "    def is_over(self):\n",
    "        return self.pile.empty()\n",
    "\n",
    "    def show(self):\n",
    "        pass\n",
    "\n",
    "    def scoring(self):\n",
    "        if self.nplayer == 1:\n",
    "            current_board = self.board1\n",
    "        else:\n",
    "            current_board = self.board2\n",
    "        return current_board.points() if self.is_over() else 0\n",
    "\n",
    "from easyAI import solve_with_iterative_deepening\n",
    "\n",
    "r,d,m = solve_with_iterative_deepening(\n",
    "    game=KingDomino(),\n",
    "    ai_depths=range(1,5),\n",
    "    win_score=100\n",
    ")"
   ]
  }
 ],
 "metadata": {
  "colab": {
   "provenance": []
  },
  "kernelspec": {
   "display_name": "Python 3",
   "language": "python",
   "name": "python3"
  },
  "language_info": {
   "codemirror_mode": {
    "name": "ipython",
    "version": 3
   },
   "file_extension": ".py",
   "mimetype": "text/x-python",
   "name": "python",
   "nbconvert_exporter": "python",
   "pygments_lexer": "ipython3",
   "version": "3.9.13"
  },
  "vscode": {
   "interpreter": {
    "hash": "37a4fa3bbd187549beed702faca122c1df1c9984f2d54f9bf9dbc572e7242e3f"
   }
  }
 },
 "nbformat": 4,
 "nbformat_minor": 1
}
