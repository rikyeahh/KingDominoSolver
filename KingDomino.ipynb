{
 "cells": [
  {
   "cell_type": "code",
   "execution_count": 1,
   "metadata": {
    "colab": {
     "base_uri": "https://localhost:8080/"
    },
    "id": "2RauHYswy6My",
    "outputId": "2fc8e51b-0888-49b4-ba89-389a64bd43ce"
   },
   "outputs": [
    {
     "name": "stdout",
     "output_type": "stream",
     "text": [
      "Collecting easyAI\n",
      "  Using cached easyAI-2.0.12-py3-none-any.whl (42 kB)\n",
      "Requirement already satisfied: numpy in c:\\users\\ricca\\anaconda3\\lib\\site-packages (from easyAI) (1.20.1)\n",
      "Installing collected packages: easyAI\n",
      "Successfully installed easyAI-2.0.12\n"
     ]
    },
    {
     "name": "stderr",
     "output_type": "stream",
     "text": [
      "WARNING: Ignoring invalid distribution -atplotlib (c:\\users\\ricca\\anaconda3\\lib\\site-packages)\n",
      "WARNING: Ignoring invalid distribution -atplotlib (c:\\users\\ricca\\anaconda3\\lib\\site-packages)\n",
      "WARNING: Ignoring invalid distribution -atplotlib (c:\\users\\ricca\\anaconda3\\lib\\site-packages)\n",
      "WARNING: Ignoring invalid distribution -atplotlib (c:\\users\\ricca\\anaconda3\\lib\\site-packages)\n",
      "WARNING: Ignoring invalid distribution -atplotlib (c:\\users\\ricca\\anaconda3\\lib\\site-packages)\n",
      "WARNING: Ignoring invalid distribution -atplotlib (c:\\users\\ricca\\anaconda3\\lib\\site-packages)\n",
      "WARNING: Ignoring invalid distribution -atplotlib (c:\\users\\ricca\\anaconda3\\lib\\site-packages)\n",
      "\n",
      "[notice] A new release of pip available: 22.3.1 -> 23.0\n",
      "[notice] To update, run: python.exe -m pip install --upgrade pip\n"
     ]
    }
   ],
   "source": [
    "!pip install easyAI"
   ]
  },
  {
   "cell_type": "code",
   "execution_count": 5,
   "metadata": {
    "colab": {
     "base_uri": "https://localhost:8080/",
     "height": 131
    },
    "id": "psKqsxdNzCA9",
    "outputId": "d1befc04-acb5-4c2d-b2e1-bad1d68af793"
   },
   "outputs": [
    {
     "name": "stdout",
     "output_type": "stream",
     "text": [
      "d:1, a:0, m:01\n",
      "d:2, a:0, m:01\n",
      "d:3, a:0, m:01\n",
      "d:4, a:0, m:01\n"
     ]
    },
    {
     "ename": "IndexError",
     "evalue": "list index out of range",
     "output_type": "error",
     "traceback": [
      "\u001b[1;31m---------------------------------------------------------------------------\u001b[0m",
      "\u001b[1;31mIndexError\u001b[0m                                Traceback (most recent call last)",
      "\u001b[1;32mc:\\Users\\ricca\\Desktop\\KingDominoSolver\\KingDomino.ipynb Cell 2\u001b[0m in \u001b[0;36m<module>\u001b[1;34m\u001b[0m\n\u001b[0;32m     <a href='vscode-notebook-cell:/c%3A/Users/ricca/Desktop/KingDominoSolver/KingDomino.ipynb#W1sZmlsZQ%3D%3D?line=83'>84</a>\u001b[0m         \u001b[39mreturn\u001b[39;00m current_board\u001b[39m.\u001b[39mpoints() \u001b[39mif\u001b[39;00m \u001b[39mself\u001b[39m\u001b[39m.\u001b[39mis_over() \u001b[39melse\u001b[39;00m \u001b[39m0\u001b[39m\n\u001b[0;32m     <a href='vscode-notebook-cell:/c%3A/Users/ricca/Desktop/KingDominoSolver/KingDomino.ipynb#W1sZmlsZQ%3D%3D?line=85'>86</a>\u001b[0m \u001b[39mfrom\u001b[39;00m \u001b[39measyAI\u001b[39;00m \u001b[39mimport\u001b[39;00m solve_with_iterative_deepening\n\u001b[1;32m---> <a href='vscode-notebook-cell:/c%3A/Users/ricca/Desktop/KingDominoSolver/KingDomino.ipynb#W1sZmlsZQ%3D%3D?line=87'>88</a>\u001b[0m r,d,m \u001b[39m=\u001b[39m solve_with_iterative_deepening(\n\u001b[0;32m     <a href='vscode-notebook-cell:/c%3A/Users/ricca/Desktop/KingDominoSolver/KingDomino.ipynb#W1sZmlsZQ%3D%3D?line=88'>89</a>\u001b[0m     game\u001b[39m=\u001b[39;49mKingDomino(),\n\u001b[0;32m     <a href='vscode-notebook-cell:/c%3A/Users/ricca/Desktop/KingDominoSolver/KingDomino.ipynb#W1sZmlsZQ%3D%3D?line=89'>90</a>\u001b[0m     ai_depths\u001b[39m=\u001b[39;49m\u001b[39mrange\u001b[39;49m(\u001b[39m1\u001b[39;49m,\u001b[39m10\u001b[39;49m),\n\u001b[0;32m     <a href='vscode-notebook-cell:/c%3A/Users/ricca/Desktop/KingDominoSolver/KingDomino.ipynb#W1sZmlsZQ%3D%3D?line=90'>91</a>\u001b[0m     win_score\u001b[39m=\u001b[39;49m\u001b[39m100\u001b[39;49m\n\u001b[0;32m     <a href='vscode-notebook-cell:/c%3A/Users/ricca/Desktop/KingDominoSolver/KingDomino.ipynb#W1sZmlsZQ%3D%3D?line=91'>92</a>\u001b[0m )\n",
      "File \u001b[1;32m~\\AppData\\Local\\Packages\\PythonSoftwareFoundation.Python.3.9_qbz5n2kfra8p0\\LocalCache\\local-packages\\Python39\\site-packages\\easyAI\\AI\\solving.py:73\u001b[0m, in \u001b[0;36msolve_with_iterative_deepening\u001b[1;34m(game, ai_depths, win_score, scoring, tt, verbose, **game_params)\u001b[0m\n\u001b[0;32m     71\u001b[0m \u001b[39mfor\u001b[39;00m depth \u001b[39min\u001b[39;00m ai_depths:\n\u001b[0;32m     72\u001b[0m     ai \u001b[39m=\u001b[39m Negamax(depth, scoring, tt\u001b[39m=\u001b[39mtt)\n\u001b[1;32m---> 73\u001b[0m     ai(game)\n\u001b[0;32m     74\u001b[0m     alpha \u001b[39m=\u001b[39m ai\u001b[39m.\u001b[39malpha\n\u001b[0;32m     75\u001b[0m     \u001b[39mif\u001b[39;00m verbose:\n",
      "File \u001b[1;32m~\\AppData\\Local\\Packages\\PythonSoftwareFoundation.Python.3.9_qbz5n2kfra8p0\\LocalCache\\local-packages\\Python39\\site-packages\\easyAI\\AI\\Negamax.py:178\u001b[0m, in \u001b[0;36mNegamax.__call__\u001b[1;34m(self, game)\u001b[0m\n\u001b[0;32m    170\u001b[0m \u001b[39m\"\"\"\u001b[39;00m\n\u001b[0;32m    171\u001b[0m \u001b[39mReturns the AI's best move given the current state of the game.\u001b[39;00m\n\u001b[0;32m    172\u001b[0m \u001b[39m\"\"\"\u001b[39;00m\n\u001b[0;32m    174\u001b[0m scoring \u001b[39m=\u001b[39m (\n\u001b[0;32m    175\u001b[0m     \u001b[39mself\u001b[39m\u001b[39m.\u001b[39mscoring \u001b[39mif\u001b[39;00m \u001b[39mself\u001b[39m\u001b[39m.\u001b[39mscoring \u001b[39melse\u001b[39;00m (\u001b[39mlambda\u001b[39;00m g: g\u001b[39m.\u001b[39mscoring())\n\u001b[0;32m    176\u001b[0m )  \u001b[39m# horrible hack\u001b[39;00m\n\u001b[1;32m--> 178\u001b[0m \u001b[39mself\u001b[39m\u001b[39m.\u001b[39malpha \u001b[39m=\u001b[39m negamax(\n\u001b[0;32m    179\u001b[0m     game,\n\u001b[0;32m    180\u001b[0m     \u001b[39mself\u001b[39;49m\u001b[39m.\u001b[39;49mdepth,\n\u001b[0;32m    181\u001b[0m     \u001b[39mself\u001b[39;49m\u001b[39m.\u001b[39;49mdepth,\n\u001b[0;32m    182\u001b[0m     scoring,\n\u001b[0;32m    183\u001b[0m     \u001b[39m-\u001b[39;49m\u001b[39mself\u001b[39;49m\u001b[39m.\u001b[39;49mwin_score,\n\u001b[0;32m    184\u001b[0m     \u001b[39m+\u001b[39;49m\u001b[39mself\u001b[39;49m\u001b[39m.\u001b[39;49mwin_score,\n\u001b[0;32m    185\u001b[0m     \u001b[39mself\u001b[39;49m\u001b[39m.\u001b[39;49mtt,\n\u001b[0;32m    186\u001b[0m )\n\u001b[0;32m    187\u001b[0m \u001b[39mreturn\u001b[39;00m game\u001b[39m.\u001b[39mai_move\n",
      "File \u001b[1;32m~\\AppData\\Local\\Packages\\PythonSoftwareFoundation.Python.3.9_qbz5n2kfra8p0\\LocalCache\\local-packages\\Python39\\site-packages\\easyAI\\AI\\Negamax.py:79\u001b[0m, in \u001b[0;36mnegamax\u001b[1;34m(game, depth, origDepth, scoring, alpha, beta, tt)\u001b[0m\n\u001b[0;32m     76\u001b[0m game\u001b[39m.\u001b[39mmake_move(move)\n\u001b[0;32m     77\u001b[0m game\u001b[39m.\u001b[39mswitch_player()\n\u001b[1;32m---> 79\u001b[0m move_alpha \u001b[39m=\u001b[39m \u001b[39m-\u001b[39mnegamax(game, depth \u001b[39m-\u001b[39;49m \u001b[39m1\u001b[39;49m, origDepth, scoring, \u001b[39m-\u001b[39;49mbeta, \u001b[39m-\u001b[39;49malpha, tt)\n\u001b[0;32m     81\u001b[0m \u001b[39mif\u001b[39;00m unmake_move:\n\u001b[0;32m     82\u001b[0m     game\u001b[39m.\u001b[39mswitch_player()\n",
      "File \u001b[1;32m~\\AppData\\Local\\Packages\\PythonSoftwareFoundation.Python.3.9_qbz5n2kfra8p0\\LocalCache\\local-packages\\Python39\\site-packages\\easyAI\\AI\\Negamax.py:79\u001b[0m, in \u001b[0;36mnegamax\u001b[1;34m(game, depth, origDepth, scoring, alpha, beta, tt)\u001b[0m\n\u001b[0;32m     76\u001b[0m game\u001b[39m.\u001b[39mmake_move(move)\n\u001b[0;32m     77\u001b[0m game\u001b[39m.\u001b[39mswitch_player()\n\u001b[1;32m---> 79\u001b[0m move_alpha \u001b[39m=\u001b[39m \u001b[39m-\u001b[39mnegamax(game, depth \u001b[39m-\u001b[39;49m \u001b[39m1\u001b[39;49m, origDepth, scoring, \u001b[39m-\u001b[39;49mbeta, \u001b[39m-\u001b[39;49malpha, tt)\n\u001b[0;32m     81\u001b[0m \u001b[39mif\u001b[39;00m unmake_move:\n\u001b[0;32m     82\u001b[0m     game\u001b[39m.\u001b[39mswitch_player()\n",
      "    \u001b[1;31m[... skipping similar frames: negamax at line 79 (1 times)]\u001b[0m\n",
      "File \u001b[1;32m~\\AppData\\Local\\Packages\\PythonSoftwareFoundation.Python.3.9_qbz5n2kfra8p0\\LocalCache\\local-packages\\Python39\\site-packages\\easyAI\\AI\\Negamax.py:79\u001b[0m, in \u001b[0;36mnegamax\u001b[1;34m(game, depth, origDepth, scoring, alpha, beta, tt)\u001b[0m\n\u001b[0;32m     76\u001b[0m game\u001b[39m.\u001b[39mmake_move(move)\n\u001b[0;32m     77\u001b[0m game\u001b[39m.\u001b[39mswitch_player()\n\u001b[1;32m---> 79\u001b[0m move_alpha \u001b[39m=\u001b[39m \u001b[39m-\u001b[39mnegamax(game, depth \u001b[39m-\u001b[39;49m \u001b[39m1\u001b[39;49m, origDepth, scoring, \u001b[39m-\u001b[39;49mbeta, \u001b[39m-\u001b[39;49malpha, tt)\n\u001b[0;32m     81\u001b[0m \u001b[39mif\u001b[39;00m unmake_move:\n\u001b[0;32m     82\u001b[0m     game\u001b[39m.\u001b[39mswitch_player()\n",
      "File \u001b[1;32m~\\AppData\\Local\\Packages\\PythonSoftwareFoundation.Python.3.9_qbz5n2kfra8p0\\LocalCache\\local-packages\\Python39\\site-packages\\easyAI\\AI\\Negamax.py:76\u001b[0m, in \u001b[0;36mnegamax\u001b[1;34m(game, depth, origDepth, scoring, alpha, beta, tt)\u001b[0m\n\u001b[0;32m     73\u001b[0m \u001b[39mif\u001b[39;00m \u001b[39mnot\u001b[39;00m unmake_move:\n\u001b[0;32m     74\u001b[0m     game \u001b[39m=\u001b[39m state\u001b[39m.\u001b[39mcopy()  \u001b[39m# re-initialize move\u001b[39;00m\n\u001b[1;32m---> 76\u001b[0m game\u001b[39m.\u001b[39;49mmake_move(move)\n\u001b[0;32m     77\u001b[0m game\u001b[39m.\u001b[39mswitch_player()\n\u001b[0;32m     79\u001b[0m move_alpha \u001b[39m=\u001b[39m \u001b[39m-\u001b[39mnegamax(game, depth \u001b[39m-\u001b[39m \u001b[39m1\u001b[39m, origDepth, scoring, \u001b[39m-\u001b[39mbeta, \u001b[39m-\u001b[39malpha, tt)\n",
      "\u001b[1;32mc:\\Users\\ricca\\Desktop\\KingDominoSolver\\KingDomino.ipynb Cell 2\u001b[0m in \u001b[0;36mKingDomino.make_move\u001b[1;34m(self, move)\u001b[0m\n\u001b[0;32m     <a href='vscode-notebook-cell:/c%3A/Users/ricca/Desktop/KingDominoSolver/KingDomino.ipynb#W1sZmlsZQ%3D%3D?line=68'>69</a>\u001b[0m prev_picked_cards[\u001b[39m0\u001b[39m] \u001b[39m=\u001b[39m \u001b[39mself\u001b[39m\u001b[39m.\u001b[39mcards_on_board[\u001b[39mint\u001b[39m(cards_picked[\u001b[39m0\u001b[39m])]\n\u001b[0;32m     <a href='vscode-notebook-cell:/c%3A/Users/ricca/Desktop/KingDominoSolver/KingDomino.ipynb#W1sZmlsZQ%3D%3D?line=69'>70</a>\u001b[0m prev_picked_cards[\u001b[39m1\u001b[39m] \u001b[39m=\u001b[39m \u001b[39mself\u001b[39m\u001b[39m.\u001b[39mcards_on_board[\u001b[39mint\u001b[39m(cards_picked[\u001b[39m1\u001b[39m])]\n\u001b[1;32m---> <a href='vscode-notebook-cell:/c%3A/Users/ricca/Desktop/KingDominoSolver/KingDomino.ipynb#W1sZmlsZQ%3D%3D?line=70'>71</a>\u001b[0m current_board\u001b[39m.\u001b[39;49mplay(move[\u001b[39m1\u001b[39;49m])\n",
      "File \u001b[1;32mc:\\Users\\ricca\\Desktop\\KingDominoSolver\\game.py:433\u001b[0m, in \u001b[0;36mBoard.play\u001b[1;34m(self, play)\u001b[0m\n\u001b[0;32m    430\u001b[0m     \u001b[39mraise\u001b[39;00m InvalidPlay\n\u001b[0;32m    432\u001b[0m \u001b[39mself\u001b[39m\u001b[39m.\u001b[39madd_to_grid(play)\n\u001b[1;32m--> 433\u001b[0m \u001b[39mself\u001b[39;49m\u001b[39m.\u001b[39;49m_unionise(play)\n",
      "File \u001b[1;32mc:\\Users\\ricca\\Desktop\\KingDominoSolver\\game.py:478\u001b[0m, in \u001b[0;36mBoard._unionise\u001b[1;34m(self, play)\u001b[0m\n\u001b[0;32m    476\u001b[0m \u001b[39mfor\u001b[39;00m a, b \u001b[39min\u001b[39;00m play\u001b[39m.\u001b[39madjacent_edges():\n\u001b[0;32m    477\u001b[0m     domino_tile \u001b[39m=\u001b[39m \u001b[39mself\u001b[39m\u001b[39m.\u001b[39mgrid[a]\n\u001b[1;32m--> 478\u001b[0m     grid_tile \u001b[39m=\u001b[39m \u001b[39mself\u001b[39;49m\u001b[39m.\u001b[39;49mgrid[b]\n\u001b[0;32m    479\u001b[0m     \u001b[39mif\u001b[39;00m grid_tile \u001b[39mis\u001b[39;00m \u001b[39mNone\u001b[39;00m:\n\u001b[0;32m    480\u001b[0m         \u001b[39mcontinue\u001b[39;00m\n",
      "File \u001b[1;32mc:\\Users\\ricca\\Desktop\\KingDominoSolver\\game.py:302\u001b[0m, in \u001b[0;36mGrid.__getitem__\u001b[1;34m(self, point)\u001b[0m\n\u001b[0;32m    301\u001b[0m \u001b[39mdef\u001b[39;00m \u001b[39m__getitem__\u001b[39m(\u001b[39mself\u001b[39m, point: Point) \u001b[39m-\u001b[39m\u001b[39m>\u001b[39m typing\u001b[39m.\u001b[39mOptional[Tile]:\n\u001b[1;32m--> 302\u001b[0m     \u001b[39mreturn\u001b[39;00m \u001b[39mself\u001b[39;49m\u001b[39m.\u001b[39;49mgrid[point\u001b[39m.\u001b[39;49mx][point\u001b[39m.\u001b[39;49my]\n",
      "\u001b[1;31mIndexError\u001b[0m: list index out of range"
     ]
    }
   ],
   "source": [
    "from easyAI import TwoPlayerGame, Human_Player, AI_Player, Negamax\n",
    "import itertools as it\n",
    "from game import Dominoes, Board, Deck, Play, Rule\n",
    "\n",
    "\n",
    "class KingDomino(TwoPlayerGame):\n",
    "\n",
    "    def __init__(self, players=None):\n",
    "        # must do these to fit the framework\n",
    "        self.players = players\n",
    "        self.nplayer = 1\n",
    "        self.current_player = 1\n",
    "        # fill the pile of cards\n",
    "        self.pile = Deck(Dominoes.from_json(\"kingdomino_small.json\"), deck_size=10, draw_num=4)\n",
    "        self.board1 = Board(Rule.MIGHTY_DUEL)\n",
    "        self.board2 = Board(Rule.MIGHTY_DUEL)\n",
    "        self.previously_picked_cards1 = [None, None]\n",
    "        self.previously_picked_cards2 = [None, None]\n",
    "        self.cards_on_board = self.pile.draw()\n",
    "\n",
    "    def possible_moves(self):\n",
    "        if self.nplayer == 1:\n",
    "            current_board = self.board1\n",
    "            prev_picked_cards = self.previously_picked_cards1\n",
    "        else:\n",
    "            current_board = self.board2\n",
    "            prev_picked_cards = self.previously_picked_cards2\n",
    "\n",
    "        # move = choose 2 cards for the next turn and place the previously picked two\n",
    "        cards_to_pick_next_turn = [\"01\", \"02\", \"03\", \"12\", \"13\", \"23\"]\n",
    "        \n",
    "        # for first turn, no previously picked cards\n",
    "        if prev_picked_cards[0] == None:\n",
    "            return cards_to_pick_next_turn\n",
    "            \n",
    "        positions_for_1st_card = list(current_board.valid_plays(prev_picked_cards[0]))\n",
    "        positions_for_2nd_card = list(current_board.valid_plays(prev_picked_cards[1]))\n",
    "        \n",
    "        positions_to_place = positions_for_1st_card + positions_for_2nd_card\n",
    "            \n",
    "        # last turn\n",
    "        if self.pile.empty():\n",
    "            return list(it.product(\"last turn\", positions_to_place))\n",
    "        \n",
    "        return list(it.product(cards_to_pick_next_turn, positions_to_place))\n",
    "\n",
    "    def make_move(self, move):\n",
    "\n",
    "        if self.nplayer == 1:\n",
    "            current_board = self.board1\n",
    "            prev_picked_cards = self.previously_picked_cards1\n",
    "        else:\n",
    "            current_board = self.board2\n",
    "            prev_picked_cards = self.previously_picked_cards2\n",
    "            self.cards_on_board = self.pile.draw()\n",
    "\n",
    "        #print(\"move\", move, \"picked\", str(prev_picked_cards))\n",
    "        # if first move\n",
    "        if type(move) == str:\n",
    "            prev_picked_cards[0] = self.cards_on_board[int(move[0])]\n",
    "            prev_picked_cards[1] = self.cards_on_board[int(move[1])]\n",
    "            return\n",
    "        \n",
    "        # if last move\n",
    "        if move[0] == 'last turn':\n",
    "            current_board.play(move[1])\n",
    "        \n",
    "        cards_picked = move[0]\n",
    "        prev_picked_cards[0] = self.cards_on_board[int(cards_picked[0])]\n",
    "        prev_picked_cards[1] = self.cards_on_board[int(cards_picked[1])]\n",
    "        current_board.play(move[1])\n",
    "\n",
    "    def is_over(self):\n",
    "        return self.pile.empty()\n",
    "\n",
    "    def show(self):\n",
    "        pass\n",
    "\n",
    "    def scoring(self):\n",
    "        if self.nplayer == 1:\n",
    "            current_board = self.board1\n",
    "        else:\n",
    "            current_board = self.board2\n",
    "        return current_board.points() if self.is_over() else 0\n",
    "\n",
    "from easyAI import solve_with_iterative_deepening\n",
    "\n",
    "r,d,m = solve_with_iterative_deepening(\n",
    "    game=KingDomino(),\n",
    "    ai_depths=range(1,10),\n",
    "    win_score=100\n",
    ")"
   ]
  },
  {
   "cell_type": "code",
   "execution_count": null,
   "metadata": {},
   "outputs": [
    {
     "data": {
      "text/plain": [
       "(0, 4, '01')"
      ]
     },
     "execution_count": 4,
     "metadata": {},
     "output_type": "execute_result"
    }
   ],
   "source": [
    "r,d,m"
   ]
  },
  {
   "cell_type": "code",
   "execution_count": null,
   "metadata": {},
   "outputs": [],
   "source": []
  }
 ],
 "metadata": {
  "colab": {
   "provenance": []
  },
  "kernelspec": {
   "display_name": "Python 3",
   "language": "python",
   "name": "python3"
  },
  "language_info": {
   "codemirror_mode": {
    "name": "ipython",
    "version": 3
   },
   "file_extension": ".py",
   "mimetype": "text/x-python",
   "name": "python",
   "nbconvert_exporter": "python",
   "pygments_lexer": "ipython3",
   "version": "3.9.13"
  },
  "vscode": {
   "interpreter": {
    "hash": "37a4fa3bbd187549beed702faca122c1df1c9984f2d54f9bf9dbc572e7242e3f"
   }
  }
 },
 "nbformat": 4,
 "nbformat_minor": 1
}
